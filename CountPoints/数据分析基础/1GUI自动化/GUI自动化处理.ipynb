{
 "cells": [
  {
   "cell_type": "markdown",
   "metadata": {
    "pycharm": {
     "name": "#%% md\n"
    }
   },
   "source": [
    "### 什么是GUI自动化"
   ]
  },
  {
   "cell_type": "markdown",
   "source": [
    "## Visual Python Upgrade\n",
    "NOTE: \n",
    "- Refresh your web browser to start a new version.\n",
    "- Save VP Note before refreshing the page."
   ],
   "metadata": {
    "collapsed": false,
    "pycharm": {
     "name": "#%% md\n"
    }
   }
  },
  {
   "cell_type": "code",
   "execution_count": null,
   "outputs": [],
   "source": [
    "# Visual Python\n",
    "!pip install visualpython --upgrade"
   ],
   "metadata": {
    "collapsed": false,
    "pycharm": {
     "name": "#%%\n"
    }
   }
  },
  {
   "cell_type": "code",
   "execution_count": null,
   "outputs": [],
   "source": [
    "# Visual Python\n",
    "!visualpy install"
   ],
   "metadata": {
    "collapsed": false,
    "pycharm": {
     "name": "#%%\n"
    }
   }
  },
  {
   "cell_type": "markdown",
   "source": [
    "- GUI自动化就是写程序直接控制键盘和鼠标。这些程序可以控制其他应用，向它们发送虚拟的击键和鼠标点击，就像你自己坐在计算机前与应用交互一样。这种技术被称为“图形用户界面自动化”，或简称为“GUI 自动化”。有了 GUI 自动化，你的程序就像一个活人用户坐在计算机前一样，能做任何事情，除了将咖啡泼在键盘上。"
   ],
   "metadata": {
    "collapsed": false,
    "pycharm": {
     "name": "#%% md\n"
    }
   }
  },
  {
   "cell_type": "markdown",
   "source": [
    "- 也可以将 GUI 自动化看成是对一个机械臂编程。你可以对机械臂编程，让它敲键盘或移动鼠标。对于涉及许多无脑点击或填表的任务，这种技术特别有用。"
   ],
   "metadata": {
    "collapsed": false,
    "pycharm": {
     "name": "#%% md\n"
    }
   }
  },
  {
   "cell_type": "markdown",
   "source": [
    "### 环境安装"
   ],
   "metadata": {
    "collapsed": false,
    "pycharm": {
     "name": "#%% md\n"
    }
   }
  },
  {
   "cell_type": "markdown",
   "source": [
    "- 安装 pyautogui 模块\n",
    "    - pyautogui 模块可以向 Windows、OS X 和 Linux 发送虚拟按键和鼠标点击。根据你使用的操作系统，在安装 pyautogui 之前，可能需要安装一些其他模块（称为依赖关系）\n",
    "        - 在 Windows 上，不需要安装其他模块。\n",
    "        - 在 OS X 上，运行 sudo pip3 install pyobjc-framework-Quartz，sudo pip3 install pyobjc-core，然后 sudo pip3 install pyobjc。\n",
    "        -  Linux 上，运行 sudo pip3 install python3-xlib，sudo apt-get install scrot，sudo apt-get install python3-tk，以及 sudo apt-get install python3-dev（Scrot 是PyAutoGUI 使用的屏幕快照程序）。\n",
    "        - 在这些依赖安装后，运行 pip install pyautogui"
   ],
   "metadata": {
    "collapsed": false,
    "pycharm": {
     "name": "#%% md\n"
    }
   }
  },
  {
   "cell_type": "markdown",
   "source": [
    "- 在这些依赖安装后，运行 pip install pyautogui"
   ],
   "metadata": {
    "collapsed": false,
    "pycharm": {
     "name": "#%% md\n"
    }
   }
  },
  {
   "cell_type": "code",
   "execution_count": null,
   "outputs": [],
   "source": [
    "import pyautogui"
   ],
   "metadata": {
    "collapsed": false,
    "pycharm": {
     "name": "#%%\n"
    }
   }
  },
  {
   "cell_type": "markdown",
   "source": [
    "### 控制鼠标移动\n",
    "- 我们主要学习如何利用 pyautogui 移动鼠标，追踪它在屏幕上的位置，但首先需要理解 pyautogui 如何处理坐标"
   ],
   "metadata": {
    "collapsed": false,
    "pycharm": {
     "name": "#%% md\n"
    }
   }
  },
  {
   "cell_type": "markdown",
   "source": [
    "- pyautogui坐标的处理\n",
    "    - pyautogui 的鼠标函数使用 x、y 坐标。原点的 x、y 都是零，在屏幕的左上角。向右 x 坐标增加，向下 y 坐标增加。所有坐标都是正整数，没有负数坐标。![image.png](attachment:image.png)"
   ],
   "metadata": {
    "collapsed": false,
    "pycharm": {
     "name": "#%% md\n"
    }
   }
  },
  {
   "cell_type": "markdown",
   "source": [
    "- 分辨率\n",
    "    - 分辨率是屏幕的宽和高有多少像素。如果屏幕的分辨率设置为 1920 × 1080，那么左上角的坐标是（0，0），右下角的坐标是（1919，1079）。"
   ],
   "metadata": {
    "collapsed": false,
    "pycharm": {
     "name": "#%% md\n"
    }
   }
  },
  {
   "cell_type": "markdown",
   "source": [
    "- 编程获取电脑屏幕的宽和高的像素数\n",
    "    - pyautogui.size() 函数返回两个整数的元组，包含屏幕的宽和高的像素数"
   ],
   "metadata": {
    "collapsed": false,
    "pycharm": {
     "name": "#%% md\n"
    }
   }
  },
  {
   "cell_type": "code",
   "execution_count": null,
   "outputs": [],
   "source": [
    "import pyautogui\n",
    "width, height = pyautogui.size()\n",
    "print(width,height)"
   ],
   "metadata": {
    "collapsed": false,
    "pycharm": {
     "name": "#%%\n"
    }
   }
  },
  {
   "cell_type": "markdown",
   "source": [
    "- 移动鼠标\n",
    "    - 理解了屏幕坐标，我们就可以来移动鼠标。\n",
    "    - pyautogui.moveTo() 函数将鼠标立即移动到屏幕的指定位置。\n",
    "        - 表示 x、y 坐标的整数值分别构成了函数的第一个和第二个参数。\n",
    "        - 可选的 duration 整数或浮点数关键字参数，指定了将鼠标移到目的位置所需的秒数。如果不指定，默认值是零，表示立即移动（在 PyAutoGUI 函数中，所有的 duration 关键字参数都是可选的）。"
   ],
   "metadata": {
    "collapsed": false,
    "pycharm": {
     "name": "#%% md\n"
    }
   }
  },
  {
   "cell_type": "code",
   "execution_count": null,
   "outputs": [],
   "source": [
    "import pyautogui\n",
    "for i in range(3):\n",
    "    pyautogui.moveTo(100, 100, duration=0.25)\n",
    "    pyautogui.moveTo(200, 100, duration=0.25)\n",
    "    pyautogui.moveTo(200, 200, duration=0.25)\n",
    "    pyautogui.moveTo(100, 200, duration=0.25)"
   ],
   "metadata": {
    "collapsed": false,
    "pycharm": {
     "name": "#%%\n"
    }
   }
  },
  {
   "cell_type": "markdown",
   "source": [
    "- pyautogui.moveRel() 函数相对于当前的位置移动鼠标\n",
    "    - 该函数可以接受 3 个参数：向右水平移动多少个像素，向下垂直移动多少个像素，以及（可选的）花多少时间完成移动。为第一第二个参数提供负整数，鼠标将向左或向上移动。"
   ],
   "metadata": {
    "collapsed": false,
    "pycharm": {
     "name": "#%% md\n"
    }
   }
  },
  {
   "cell_type": "code",
   "execution_count": null,
   "outputs": [],
   "source": [
    "import pyautogui\n",
    "for i in range(3):\n",
    "    pyautogui.moveRel(100, 0, duration=0.25)\n",
    "    pyautogui.moveRel(0, 100, duration=0.25)\n",
    "    pyautogui.moveRel(-100, 0, duration=0.25)\n",
    "    pyautogui.moveRel(0, -100, duration=0.25)"
   ],
   "metadata": {
    "collapsed": false,
    "pycharm": {
     "name": "#%%\n"
    }
   }
  },
  {
   "cell_type": "markdown",
   "source": [
    "- 获取鼠标位置\n",
    "    - 通过调用 pyautogui.position() 函数，可以确定鼠标当前的位置。它将返回函数调用时，鼠标 x、y 坐标的元组。"
   ],
   "metadata": {
    "collapsed": false,
    "pycharm": {
     "name": "#%% md\n"
    }
   }
  },
  {
   "cell_type": "code",
   "execution_count": null,
   "outputs": [],
   "source": [
    "pyautogui.position()"
   ],
   "metadata": {
    "collapsed": false,
    "pycharm": {
     "name": "#%%\n"
    }
   }
  },
  {
   "cell_type": "markdown",
   "source": [
    "### 控制鼠标交互\n",
    "既然我们知道了如何移动鼠标，弄清楚了它在屏幕上的位置，就可以开始点击、拖动和滚动鼠标。"
   ],
   "metadata": {
    "collapsed": false,
    "pycharm": {
     "name": "#%% md\n"
    }
   }
  },
  {
   "cell_type": "markdown",
   "source": [
    "#### 点击鼠标"
   ],
   "metadata": {
    "collapsed": false,
    "pycharm": {
     "name": "#%% md\n"
    }
   }
  },
  {
   "cell_type": "markdown",
   "source": [
    "- 鼠标点击\n",
    "    - 要向计算机发送虚拟的鼠标点击，就调用 pyautogui.click() 方法。默认情况下，点击将使用鼠标左键，点击发生在鼠标当前所在位置。如果希望点击在鼠标当前位置以外的地方发生，可以传入 x、y 坐标作为可选的第一第二参数。"
   ],
   "metadata": {
    "collapsed": false,
    "pycharm": {
     "name": "#%% md\n"
    }
   }
  },
  {
   "cell_type": "code",
   "execution_count": null,
   "outputs": [],
   "source": [
    "#实现：鼠标移到屏幕左上角的位置，并点击一次。完整的“点击”是指按下鼠标按键，然后放开，同时不移动位置\n",
    "import pyautogui\n",
    "pyautogui.click(10, 5)"
   ],
   "metadata": {
    "collapsed": false,
    "pycharm": {
     "name": "#%%\n"
    }
   }
  },
  {
   "cell_type": "markdown",
   "source": [
    "- 指定鼠标按键\n",
    "    - 如果想指定鼠标按键，就加入 button 关键字参数，值分别为 'left'、'middle'或 'right'。例如，pyautogui.click（100，150，button='left'）将在坐标（100，150）处点击鼠标左键。而 pyautogui.click（200，250，button='right'）将在坐标（200，250）处点击右键。"
   ],
   "metadata": {
    "collapsed": false,
    "pycharm": {
     "name": "#%% md\n"
    }
   }
  },
  {
   "cell_type": "code",
   "execution_count": null,
   "outputs": [],
   "source": [
    "import pyautogui\n",
    "pyautogui.click(600, 509, button='right')"
   ],
   "metadata": {
    "collapsed": false,
    "pycharm": {
     "name": "#%%\n"
    }
   }
  },
  {
   "cell_type": "markdown",
   "source": [
    "- 实现点击的其他方法\n",
    "    - pyautogui. mouseDown()\n",
    "        - 只是按下鼠标按键\n",
    "    - pyautogui.mouseUp()\n",
    "        - 只是释放鼠标按键\n",
    "    - pyautogui.doubleClick()\n",
    "        - 执行双击鼠标左键\n",
    "    - pyautogui.rightClick()，pyautogui.middleClick()\n",
    "        - 分别执行双击右键和双击中键"
   ],
   "metadata": {
    "collapsed": false,
    "pycharm": {
     "name": "#%% md\n"
    }
   }
  },
  {
   "cell_type": "markdown",
   "source": [
    "#### 拖动鼠标\n",
    "“拖动”意味着移动鼠标，同时按住一个按键不放。例如，可以通过拖动文件图标，在文件夹之间移动文件等"
   ],
   "metadata": {
    "collapsed": false,
    "pycharm": {
     "name": "#%% md\n"
    }
   }
  },
  {
   "cell_type": "markdown",
   "source": [
    "- 具体操作\n",
    "    - PyAutoGUI 提供了 pyautogui.dragTo() 和 pyautogui.dragRel() 函数，将鼠标拖动到一个新的位置，或相对当前位置的位置。 dragTo() 和 dragRel() 的参数与moveTo() 和 moveRel() 相同：x 坐标/水平移动，y 坐标/垂直移动，以及可选的时间间隔（在 OS X 上，如果鼠标移动太快，拖动会不对，所以建议提供 duration 关键字参数）。"
   ],
   "metadata": {
    "collapsed": false,
    "pycharm": {
     "name": "#%% md\n"
    }
   }
  },
  {
   "cell_type": "markdown",
   "source": [
    "- 测试\n",
    "    - 请打开一个绘图应用，如 Windows 上的 Paint，OS X 上的Paintbrush，或 Linux 上的 GNU Paint（如果没有绘图应用，可以使用在线绘图，网址是 http://sumopaint.com/）"
   ],
   "metadata": {
    "collapsed": false,
    "pycharm": {
     "name": "#%% md\n"
    }
   }
  },
  {
   "cell_type": "code",
   "execution_count": null,
   "outputs": [],
   "source": [
    "import pyautogui, time\n",
    "time.sleep(2)\n",
    "pyautogui.click()\n",
    "distance = 200\n",
    "while distance > 0:\n",
    "    pyautogui.dragRel(distance, 0, duration=0.2,button='left') # move right\n",
    "    distance = distance - 5\n",
    "    pyautogui.dragRel(0, distance, duration=0.2,button='left') # move down\n",
    "    pyautogui.dragRel(-distance, 0, duration=0.2,button='left') # move left\n",
    "    distance = distance - 5\n",
    "    pyautogui.dragRel(0, -distance, duration=0.2,button='left') # move up"
   ],
   "metadata": {
    "collapsed": false,
    "pycharm": {
     "name": "#%%\n"
    }
   }
  },
  {
   "cell_type": "markdown",
   "source": [
    "- 注意：如果出现如下报错信息\n",
    "    - AssertionError: button argument not in ('left', 'middle', 'right')\n",
    "    - 则在函数中添加button参数指定鼠标按键即可"
   ],
   "metadata": {
    "collapsed": false,
    "pycharm": {
     "name": "#%% md\n"
    }
   }
  },
  {
   "cell_type": "markdown",
   "source": [
    "#### 滚动鼠标\n"
   ],
   "metadata": {
    "collapsed": false,
    "pycharm": {
     "name": "#%% md\n"
    }
   }
  },
  {
   "cell_type": "markdown",
   "source": [
    "- 最后一个 pyautogui 鼠标函数是 scroll()。你向它提供一个整型参数，说明向上或向下滚动多少单位，滚动发生在鼠标的当前位置。\n",
    "    - 单位的意义在每个操作系统和应用上不一样，所以你必须试验，看看在你的情况下滚动多远。\n",
    "    - 传递正整数表示向上滚动，传递负整数表示向下滚动"
   ],
   "metadata": {
    "collapsed": false,
    "pycharm": {
     "name": "#%% md\n"
    }
   }
  },
  {
   "cell_type": "code",
   "execution_count": null,
   "outputs": [],
   "source": [
    "import pyautogui, time\n",
    "time.sleep(2)\n",
    "pyautogui.scroll(-500)  # 负数向下"
   ],
   "metadata": {
    "collapsed": false,
    "pycharm": {
     "name": "#%%\n"
    }
   }
  },
  {
   "cell_type": "markdown",
   "source": [
    "### 处理屏幕\n",
    "你的 GUI 自动化程序没有必要盲目地点击和输入。pyautogui 拥有屏幕快照的功能，可以根据当前屏幕的内容创建图形文件。"
   ],
   "metadata": {
    "collapsed": false,
    "pycharm": {
     "name": "#%% md\n"
    }
   }
  },
  {
   "cell_type": "markdown",
   "source": [
    "- 注意：\n",
    "    - 在 Linux 计算机上，需要安装 scrot 程序，才能在 pyautogui 中使用屏幕快照功能。在终端窗口中，执行 sudo apt-get install scrot，安装该程序。如果你使用 Windows或 OS X，就跳过这一步"
   ],
   "metadata": {
    "collapsed": false,
    "pycharm": {
     "name": "#%% md\n"
    }
   }
  },
  {
   "cell_type": "markdown",
   "source": [
    "#### 获取屏幕快照\n"
   ],
   "metadata": {
    "collapsed": false,
    "pycharm": {
     "name": "#%% md\n"
    }
   }
  },
  {
   "cell_type": "markdown",
   "source": [
    "- 要在 Python 中获取屏幕快照，就调用 pyautogui.screenshot() 函数,函数将返回包含一个屏幕快照的 Image 对象"
   ],
   "metadata": {
    "collapsed": false,
    "pycharm": {
     "name": "#%% md\n"
    }
   }
  },
  {
   "cell_type": "code",
   "execution_count": null,
   "outputs": [],
   "source": [
    "import pyautogui\n",
    "im = pyautogui.screenshot()\n",
    "im.save('./123.png')"
   ],
   "metadata": {
    "collapsed": false,
    "pycharm": {
     "name": "#%%\n"
    }
   }
  },
  {
   "cell_type": "markdown",
   "source": [
    "- Image对象getpixel() \n",
    "    -  getpixel() 函数传入坐标元组它将告诉你图像中这些坐标处的像素颜色。getpixel() 函数的返回值是一个 RGB 元组，包含 4 个整数，表示像素的红绿蓝值和透明度。\n",
    "    - 这就是你的程序“看到”当前屏幕上内容的方法。"
   ],
   "metadata": {
    "collapsed": false,
    "pycharm": {
     "name": "#%% md\n"
    }
   }
  },
  {
   "cell_type": "code",
   "execution_count": null,
   "outputs": [],
   "source": [
    "import pyautogui\n",
    "im.getpixel((23,560))"
   ],
   "metadata": {
    "collapsed": false,
    "pycharm": {
     "name": "#%%\n"
    }
   }
  },
  {
   "cell_type": "markdown",
   "source": [
    "#### 分析屏幕快照"
   ],
   "metadata": {
    "collapsed": false,
    "pycharm": {
     "name": "#%% md\n"
    }
   }
  },
  {
   "cell_type": "markdown",
   "source": [
    "- 举个栗子：\n",
    "    - 假设你的 GUI 自动化程序中，有一步是点击灰色按钮。在调用 click() 方法之前，你可以获取屏幕快照，查看脚本要点击处的像素。如果它的颜色和灰色按钮不一样，那么程序就知道出问题了。也许窗口发生了意外的移动，或者弹出式对话框挡住了该按钮。这时，不应该继续（可能会点击到错误的东西，造成严重破坏），程序可以“看到”它没有点击在正确的东西上，并自行停止。"
   ],
   "metadata": {
    "collapsed": false,
    "pycharm": {
     "name": "#%% md\n"
    }
   }
  },
  {
   "cell_type": "markdown",
   "source": [
    "- pixelMatchesColor() 函数\n",
    "    - 参数：\n",
    "        - 第一和第二个参数是整数，对应 x 和 y 坐标。第三个参数是一个元组，包含 3 个整数，是屏幕像素必须匹配的 RGB 颜色\n",
    "    - 返回值：\n",
    "        - 如果屏幕上指定的 x、y 坐标处的像素与指定的颜色匹配，PyAutoGUI 的pixelMatchesColor() 函数将返回 True。"
   ],
   "metadata": {
    "collapsed": false,
    "pycharm": {
     "name": "#%% md\n"
    }
   }
  },
  {
   "cell_type": "code",
   "execution_count": null,
   "outputs": [],
   "source": [
    "import pyautogui\n",
    "im = pyautogui.screenshot()\n",
    "print(im.getpixel((500, 200)))\n",
    "result = pyautogui.pixelMatchesColor(500, 200, (247, 247, 247))\n",
    "print(result)"
   ],
   "metadata": {
    "collapsed": false,
    "pycharm": {
     "name": "#%%\n"
    }
   }
  },
  {
   "cell_type": "markdown",
   "source": [
    "### 图像识别\n"
   ],
   "metadata": {
    "collapsed": false,
    "pycharm": {
     "name": "#%% md\n"
    }
   }
  },
  {
   "cell_type": "markdown",
   "source": [
    "- opencv简介\n",
    "    - Opencv（Open Source Computer Vision Library）是一个基于开源发行的跨平台计算机视觉库，它实现了图像处理和计算机视觉方面的很多通用算法，已成为计算机视觉领域最有力的研究工具。\n",
    "    - 在这里我们要区分两个概念：图像处理和计算机视觉的区别：\n",
    "        - 图像处理侧重于“处理”图像--如增强，还原，去噪，分割等等；\n",
    "        - 而计算机视觉重点在于使用计算机来模拟人的视觉，因此模拟才是计算机视觉领域的最终目标。"
   ],
   "metadata": {
    "collapsed": false,
    "pycharm": {
     "name": "#%% md\n"
    }
   }
  },
  {
   "cell_type": "markdown",
   "source": [
    "- opencv环境安装：\n",
    "    - pip install opencv-python==3.4.5.20"
   ],
   "metadata": {
    "collapsed": false,
    "pycharm": {
     "name": "#%% md\n"
    }
   }
  },
  {
   "cell_type": "markdown",
   "source": [
    "- 测试"
   ],
   "metadata": {
    "collapsed": false,
    "pycharm": {
     "name": "#%% md\n"
    }
   }
  },
  {
   "cell_type": "code",
   "execution_count": null,
   "outputs": [],
   "source": [
    "import cv2"
   ],
   "metadata": {
    "collapsed": false,
    "pycharm": {
     "name": "#%%\n"
    }
   }
  },
  {
   "cell_type": "markdown",
   "source": [],
   "metadata": {
    "collapsed": false,
    "pycharm": {
     "name": "#%% md\n"
    }
   }
  },
  {
   "cell_type": "markdown",
   "source": [
    "- 操作\n",
    "    - 打开腾讯会议，识别【加入会议】按钮，对其进行点击操作"
   ],
   "metadata": {
    "collapsed": false,
    "pycharm": {
     "name": "#%% md\n"
    }
   }
  },
  {
   "cell_type": "code",
   "execution_count": null,
   "outputs": [],
   "source": [
    "import cv2\n",
    "import pyautogui\n",
    "import time\n",
    "time.sleep(2)\n",
    "# 获取带有腾讯会议的屏幕快照且保存到本地\n",
    "im = pyautogui.screenshot()\n",
    "im.save('screen.png')\n",
    "\n",
    "# 基于cv2读取照片\n",
    "screen = cv2.imread('./screen.png')\n",
    "joinMeeting = cv2.imread('./joinMeeting.png')\n",
    "# 在屏幕快照中对比加入会议按钮照片，定位其准确位置\n",
    "result = cv2.matchTemplate(joinMeeting,screen, cv2.TM_CCOEFF_NORMED)\n",
    "# result是一个二维列表，列表中最大值元素的位置就是我们对比后相似度最高的图片【最上角】位置\n",
    "print(result)\n",
    "\n",
    "# minMaxLoc返回一个元组，其中三个元素，以此为最不相似点分数，最相似点分数，最不相似点位置坐标，最相似点位置坐标\n",
    "pos_start = cv2.minMaxLoc(result)[3] #获取最相似点相似坐标\n",
    "print(pos_start) \n",
    "x = pos_start[0]\n",
    "y = pos_start[1]\n",
    "\n",
    "# 定位到点击图片的中间位置\n",
    "x = int(x) + int(joinMeeting.shape[1] / 2)\n",
    "y = int(y) + int(joinMeeting.shape[0] / 2)\n",
    "\n",
    "time.sleep(1)\n",
    "pyautogui.click(x,y)\n"
   ],
   "metadata": {
    "collapsed": false,
    "pycharm": {
     "name": "#%%\n"
    }
   }
  },
  {
   "cell_type": "markdown",
   "source": [
    "### 控制键盘\n",
    "pyautogui 也有一些函数向计算机发送虚拟按键，让你能够填充表格，或在应用中输入文本。"
   ],
   "metadata": {
    "collapsed": false,
    "pycharm": {
     "name": "#%% md\n"
    }
   }
  },
  {
   "cell_type": "markdown",
   "source": [
    "#### 通过键盘发送一个字符串\n",
    "- pyautogui.typewrite() 函数向计算机发送虚拟按键。这些按键产生什么效果，取决于当前获得焦点的窗口和文本输入框。可能需要先向文本输入框发送一次鼠标点击，确保它获得焦点。\n",
    "    - 举一个简单的例子，让我们用 Python 自动化在文件编辑窗口中输入 Helloworld!。首先，打开一个新的文件编辑窗口，将它放在屏幕的左上角，以便pyautogui 点击正确的位置，让它获得焦点"
   ],
   "metadata": {
    "collapsed": false,
    "pycharm": {
     "name": "#%% md\n"
    }
   }
  },
  {
   "cell_type": "code",
   "execution_count": null,
   "outputs": [],
   "source": [
    "import pyautogui\n",
    "import time\n",
    "time.sleep(2)\n",
    "pyautogui.click(300, 300)\n",
    "pyautogui.typewrite('Hello',interval=0.25)\n",
    "pyautogui.press('space',interval=0.25)\n",
    "pyautogui.typewrite('world!',interval=0.25)"
   ],
   "metadata": {
    "collapsed": false,
    "pycharm": {
     "name": "#%%\n"
    }
   }
  },
  {
   "cell_type": "markdown",
   "source": [
    "- typewrite()参数介绍：\n",
    "    - message：键盘录入的内容\n",
    "        - 字符串\n",
    "        - 列表：键字符串的列表\n",
    "            - pyautogui.typewrite(['a', 'b', 'left', 'left', 'X', 'Y'])\n",
    "    - interval：在每个字符之间添加短时间暂停\n",
    "    - 注意：对于 A 或!这样的字符，pyautogui 将自动模拟按住 Shift 键。"
   ],
   "metadata": {
    "collapsed": false,
    "pycharm": {
     "name": "#%% md\n"
    }
   }
  },
  {
   "cell_type": "markdown",
   "source": [
    "#### 键名\n",
    "不是所有的键都很容易用单个文本字符来表示。例如，如何把 Shift 键或左箭头键表示为单个字符？在 PyAutoGUI 中，这些键表示为短的字符值：'esc' 表示 Esc 键，'enter' 表示 Enter。"
   ],
   "metadata": {
    "collapsed": false,
    "pycharm": {
     "name": "#%% md\n"
    }
   }
  },
  {
   "cell_type": "markdown",
   "source": [
    "![image.png](attachment:image.png)"
   ],
   "metadata": {
    "collapsed": false,
    "pycharm": {
     "name": "#%% md\n"
    }
   }
  },
  {
   "cell_type": "markdown",
   "source": [
    "![image.png](attachment:image.png)"
   ],
   "metadata": {
    "collapsed": false,
    "pycharm": {
     "name": "#%% md\n"
    }
   }
  },
  {
   "cell_type": "markdown",
   "source": [
    "- press按下按键"
   ],
   "metadata": {
    "collapsed": false,
    "pycharm": {
     "name": "#%% md\n"
    }
   }
  },
  {
   "cell_type": "code",
   "execution_count": null,
   "outputs": [],
   "source": [
    "import pyautogui\n",
    "import time\n",
    "time.sleep(2)\n",
    "pyautogui.click(300, 300)\n",
    "pyautogui.typewrite('Hello world!',interval=0.25)\n",
    "time.sleep(1)\n",
    "pyautogui.press('enter')\n",
    "time.sleep(1)\n",
    "pyautogui.typewrite('Hello world!',interval=0.25)"
   ],
   "metadata": {
    "collapsed": false,
    "pycharm": {
     "name": "#%%\n"
    }
   }
  },
  {
   "cell_type": "markdown",
   "source": [
    "#### 按下和释放键盘\n",
    "就像 mouseDown() 和 mouseUp() 函数一样，pyautogui.keyDown() 和 pyautogui.keyUp() 将向计算发送虚拟的按键和释放。方便起见，pyautogui 提供了pyautogui.press() 函数，它调用这两个函数，模拟完整的击键。"
   ],
   "metadata": {
    "collapsed": false,
    "pycharm": {
     "name": "#%% md\n"
    }
   }
  },
  {
   "cell_type": "markdown",
   "source": [
    "- 例子：打印出美元字符（通过按住 Shift 键并按 4 得到）"
   ],
   "metadata": {
    "collapsed": false,
    "pycharm": {
     "name": "#%% md\n"
    }
   }
  },
  {
   "cell_type": "code",
   "execution_count": null,
   "outputs": [],
   "source": [
    "import pyautogui\n",
    "import time\n",
    "time.sleep(2)\n",
    "pyautogui.keyDown('shift')\n",
    "pyautogui.press('4')\n",
    "pyautogui.keyUp('shift')"
   ],
   "metadata": {
    "collapsed": false,
    "pycharm": {
     "name": "#%%\n"
    }
   }
  },
  {
   "cell_type": "markdown",
   "source": [
    "#### 热键组合\n"
   ],
   "metadata": {
    "collapsed": false,
    "pycharm": {
     "name": "#%% md\n"
    }
   }
  },
  {
   "cell_type": "markdown",
   "source": [
    "- “热键”或“快捷键”是一种按键组合，它调用某种应用功能。拷贝选择内容的常用热键是 Ctrl-C。用户按住Ctrl键，然后按C键，然后释放C和Ctrl键。\n",
    "    - 要用pyautogui的keyDown() 和keyUp() 函数来做到这一点"
   ],
   "metadata": {
    "collapsed": false,
    "pycharm": {
     "name": "#%% md\n"
    }
   }
  },
  {
   "cell_type": "code",
   "execution_count": null,
   "outputs": [],
   "source": [
    "import pyautogui\n",
    "import time\n",
    "time.sleep(2)\n",
    "pyautogui.keyDown('ctrl')\n",
    "pyautogui.press('v')\n",
    "pyautogui.keyUp('ctrl')"
   ],
   "metadata": {
    "collapsed": false,
    "pycharm": {
     "name": "#%%\n"
    }
   }
  },
  {
   "cell_type": "markdown",
   "source": [
    "- 这相当复杂。作为替代，可以使用 pyautogui.hotkey() 函数，它接受多个键字符串参数，按顺序按下，再按相反的顺序释放。例如对于 Ctrl-C，代码就像下面这样简单："
   ],
   "metadata": {
    "collapsed": false,
    "pycharm": {
     "name": "#%% md\n"
    }
   }
  },
  {
   "cell_type": "code",
   "execution_count": null,
   "outputs": [],
   "source": [
    "import pyautogui\n",
    "import time\n",
    "time.sleep(2)\n",
    "pyautogui.hotkey('ctrl', 'v')"
   ],
   "metadata": {
    "collapsed": false,
    "pycharm": {
     "name": "#%%\n"
    }
   }
  },
  {
   "cell_type": "markdown",
   "source": [
    "### 项目：微信自动化"
   ],
   "metadata": {
    "collapsed": false,
    "pycharm": {
     "name": "#%% md\n"
    }
   }
  },
  {
   "cell_type": "markdown",
   "source": [
    "- 注意：微信官方给出的pywx已然失效，则除了GUI别无他法自动化操作微信了。"
   ],
   "metadata": {
    "collapsed": false,
    "pycharm": {
     "name": "#%% md\n"
    }
   }
  },
  {
   "cell_type": "code",
   "execution_count": null,
   "outputs": [],
   "source": [
    "import cv2\n",
    "import os\n",
    "import pyperclip  # 用于复制粘贴的模块\n",
    "import pyautogui\n",
    "import time\n",
    "time.sleep(2)\n",
    "\n",
    "# 从屏幕screen中找到source的位置坐标(找到微信搜索框的位置)\n",
    "def findImg():\n",
    "    im = pyautogui.screenshot()\n",
    "    im.save('screen.png')\n",
    "    screen = cv2.imread('./screen.png')\n",
    "    joinMeeting = cv2.imread('./wechat.png')\n",
    "    result = cv2.matchTemplate(joinMeeting,screen, cv2.TM_CCOEFF_NORMED)\n",
    "    pos_start = cv2.minMaxLoc(result)[3]  # 获取最相似点相似坐标\n",
    "    x = int(pos_start[0]) + int(joinMeeting.shape[1] / 2)\n",
    "    y = int(pos_start[1]) + int(joinMeeting.shape[0] / 2)\n",
    "    return x,y\n",
    "\n",
    "# 向搜索框中录入要查找的好友名称:name好友名称，x，y搜索框位置\n",
    "def send_name_to_search(x,y,name):\n",
    "    pyautogui.click(x,y)\n",
    "    time.sleep(1)\n",
    "    # 赋值好友名称\n",
    "    pyperclip.copy(name)\n",
    "    # 粘贴复制内容\n",
    "    pyautogui.hotkey('ctrl', 'v')\n",
    "    time.sleep(1)\n",
    "    pyautogui.hotkey('enter')\n",
    "    # 向下移动100个像素定位到搜索到第一个好友位置点击\n",
    "#     pyautogui.moveTo(x, y+80)\n",
    "#     pyautogui.click(x, y+80)\n",
    "\n",
    "# 向好友发送消息\n",
    "def send_msg(msg):\n",
    "    pyperclip.copy(msg)\n",
    "    pyautogui.hotkey('ctrl', 'v')\n",
    "    pyautogui.hotkey('enter')\n",
    "\n",
    "    \n",
    "# 主要程序\n",
    "x,y = findImg()\n",
    "send_name_to_search(x,y,'阿房宫')\n",
    "time.sleep(1)\n",
    "send_msg('Python Gui Test!!!')\n",
    "send_msg('Python Gui Test!!!') "
   ],
   "metadata": {
    "collapsed": false,
    "pycharm": {
     "name": "#%%\n"
    }
   }
  },
  {
   "cell_type": "markdown",
   "source": [
    "### 监视程序"
   ],
   "metadata": {
    "collapsed": false,
    "pycharm": {
     "name": "#%% md\n"
    }
   }
  },
  {
   "cell_type": "code",
   "execution_count": null,
   "outputs": [],
   "source": [
    "pip install yagmail\n",
    "pip install schedule"
   ],
   "metadata": {
    "collapsed": false,
    "pycharm": {
     "name": "#%%\n"
    }
   }
  },
  {
   "cell_type": "code",
   "execution_count": null,
   "outputs": [],
   "source": [
    "import time\n",
    "\n",
    "import cv2\n",
    "import pyautogui\n",
    "import yagmail\n",
    "import schedule\n",
    "\n",
    "\n",
    "def run():\n",
    "    print('开始监视......')\n",
    "    # 截取屏幕图片\n",
    "    myScreenshot = pyautogui.screenshot()\n",
    "    myScreenshot.save(r'screen.png')\n",
    "    # 基于cv2打开电脑摄像头，捕获实施照片\n",
    "    cap = cv2.VideoCapture(0)\n",
    "    ret, frame = cap.read()\n",
    "    time.sleep(3)\n",
    "    cv2.imwrite('photo.jpg', frame)\n",
    "    # 关闭摄像头\n",
    "    cap.release()\n",
    "\n",
    "    received = ['hankewei0224@126.com', 'hankewei0224@163.com']\n",
    "    yag = yagmail.SMTP(user='562172420@qq.com', host='smtp.qq.com')\n",
    "    contents = ['<b> <font color=\"#FF1493\" size=\"10\"> 您好，一切都在监视中，尽情放心！</font> </b>',\n",
    "                \"screen.png\",\n",
    "                'photo.jpg']\n",
    "\n",
    "    yag.send(received, '来自小鬼侦探的报告', contents)\n",
    "\n",
    "\n",
    "schedule.every().minute.at(\":30\").do(run)\n",
    "while True:\n",
    "    schedule.run_pending()\n",
    "    time.sleep(5)\n"
   ],
   "metadata": {
    "collapsed": false,
    "pycharm": {
     "name": "#%%\n"
    }
   }
  },
  {
   "cell_type": "markdown",
   "metadata": {
    "pycharm": {
     "name": "#%% md\n"
    }
   },
   "source": [
    "### 监视程序"
   ]
  },
  {
   "cell_type": "code",
   "execution_count": null,
   "metadata": {},
   "outputs": [],
   "source": [
    "pip install yagmail\n",
    "pip install schedule"
   ]
  },
  {
   "cell_type": "code",
   "execution_count": 47,
   "metadata": {
    "pycharm": {
     "name": "#%%\n"
    }
   },
   "outputs": [
    {
     "name": "stdout",
     "output_type": "stream",
     "text": [
      "开始监视......\n"
     ]
    },
    {
     "ename": "KeyboardInterrupt",
     "evalue": "",
     "output_type": "error",
     "traceback": [
      "\u001B[1;31m---------------------------------------------------------------------------\u001B[0m",
      "\u001B[1;31mKeyboardInterrupt\u001B[0m                         Traceback (most recent call last)",
      "\u001B[1;32m~\\AppData\\Local\\Temp\\ipykernel_7580\\1108625369.py\u001B[0m in \u001B[0;36m<cell line: 33>\u001B[1;34m()\u001B[0m\n\u001B[0;32m     31\u001B[0m \u001B[0mschedule\u001B[0m\u001B[1;33m.\u001B[0m\u001B[0mevery\u001B[0m\u001B[1;33m(\u001B[0m\u001B[1;33m)\u001B[0m\u001B[1;33m.\u001B[0m\u001B[0mminute\u001B[0m\u001B[1;33m.\u001B[0m\u001B[0mat\u001B[0m\u001B[1;33m(\u001B[0m\u001B[1;34m\":30\"\u001B[0m\u001B[1;33m)\u001B[0m\u001B[1;33m.\u001B[0m\u001B[0mdo\u001B[0m\u001B[1;33m(\u001B[0m\u001B[0mrun\u001B[0m\u001B[1;33m)\u001B[0m\u001B[1;33m\u001B[0m\u001B[1;33m\u001B[0m\u001B[0m\n\u001B[0;32m     32\u001B[0m \u001B[1;32mwhile\u001B[0m \u001B[1;32mTrue\u001B[0m\u001B[1;33m:\u001B[0m\u001B[1;33m\u001B[0m\u001B[1;33m\u001B[0m\u001B[0m\n\u001B[1;32m---> 33\u001B[1;33m     \u001B[0mschedule\u001B[0m\u001B[1;33m.\u001B[0m\u001B[0mrun_pending\u001B[0m\u001B[1;33m(\u001B[0m\u001B[1;33m)\u001B[0m\u001B[1;33m\u001B[0m\u001B[1;33m\u001B[0m\u001B[0m\n\u001B[0m\u001B[0;32m     34\u001B[0m     \u001B[0mtime\u001B[0m\u001B[1;33m.\u001B[0m\u001B[0msleep\u001B[0m\u001B[1;33m(\u001B[0m\u001B[1;36m5\u001B[0m\u001B[1;33m)\u001B[0m\u001B[1;33m\u001B[0m\u001B[1;33m\u001B[0m\u001B[0m\n",
      "\u001B[1;32mD:\\Anaconda3\\lib\\site-packages\\schedule\\__init__.py\u001B[0m in \u001B[0;36mrun_pending\u001B[1;34m()\u001B[0m\n\u001B[0;32m    778\u001B[0m     \u001B[1;33m:\u001B[0m\u001B[0mdata\u001B[0m\u001B[1;33m:\u001B[0m\u001B[0;31m`\u001B[0m\u001B[0mdefault\u001B[0m \u001B[0mscheduler\u001B[0m \u001B[0minstance\u001B[0m \u001B[1;33m<\u001B[0m\u001B[0mdefault_scheduler\u001B[0m\u001B[1;33m>\u001B[0m\u001B[0;31m`\u001B[0m\u001B[1;33m.\u001B[0m\u001B[1;33m\u001B[0m\u001B[1;33m\u001B[0m\u001B[0m\n\u001B[0;32m    779\u001B[0m     \"\"\"\n\u001B[1;32m--> 780\u001B[1;33m     \u001B[0mdefault_scheduler\u001B[0m\u001B[1;33m.\u001B[0m\u001B[0mrun_pending\u001B[0m\u001B[1;33m(\u001B[0m\u001B[1;33m)\u001B[0m\u001B[1;33m\u001B[0m\u001B[1;33m\u001B[0m\u001B[0m\n\u001B[0m\u001B[0;32m    781\u001B[0m \u001B[1;33m\u001B[0m\u001B[0m\n\u001B[0;32m    782\u001B[0m \u001B[1;33m\u001B[0m\u001B[0m\n",
      "\u001B[1;32mD:\\Anaconda3\\lib\\site-packages\\schedule\\__init__.py\u001B[0m in \u001B[0;36mrun_pending\u001B[1;34m(self)\u001B[0m\n\u001B[0;32m     98\u001B[0m         \u001B[0mrunnable_jobs\u001B[0m \u001B[1;33m=\u001B[0m \u001B[1;33m(\u001B[0m\u001B[0mjob\u001B[0m \u001B[1;32mfor\u001B[0m \u001B[0mjob\u001B[0m \u001B[1;32min\u001B[0m \u001B[0mself\u001B[0m\u001B[1;33m.\u001B[0m\u001B[0mjobs\u001B[0m \u001B[1;32mif\u001B[0m \u001B[0mjob\u001B[0m\u001B[1;33m.\u001B[0m\u001B[0mshould_run\u001B[0m\u001B[1;33m)\u001B[0m\u001B[1;33m\u001B[0m\u001B[1;33m\u001B[0m\u001B[0m\n\u001B[0;32m     99\u001B[0m         \u001B[1;32mfor\u001B[0m \u001B[0mjob\u001B[0m \u001B[1;32min\u001B[0m \u001B[0msorted\u001B[0m\u001B[1;33m(\u001B[0m\u001B[0mrunnable_jobs\u001B[0m\u001B[1;33m)\u001B[0m\u001B[1;33m:\u001B[0m\u001B[1;33m\u001B[0m\u001B[1;33m\u001B[0m\u001B[0m\n\u001B[1;32m--> 100\u001B[1;33m             \u001B[0mself\u001B[0m\u001B[1;33m.\u001B[0m\u001B[0m_run_job\u001B[0m\u001B[1;33m(\u001B[0m\u001B[0mjob\u001B[0m\u001B[1;33m)\u001B[0m\u001B[1;33m\u001B[0m\u001B[1;33m\u001B[0m\u001B[0m\n\u001B[0m\u001B[0;32m    101\u001B[0m \u001B[1;33m\u001B[0m\u001B[0m\n\u001B[0;32m    102\u001B[0m     \u001B[1;32mdef\u001B[0m \u001B[0mrun_all\u001B[0m\u001B[1;33m(\u001B[0m\u001B[0mself\u001B[0m\u001B[1;33m,\u001B[0m \u001B[0mdelay_seconds\u001B[0m\u001B[1;33m:\u001B[0m \u001B[0mint\u001B[0m \u001B[1;33m=\u001B[0m \u001B[1;36m0\u001B[0m\u001B[1;33m)\u001B[0m \u001B[1;33m->\u001B[0m \u001B[1;32mNone\u001B[0m\u001B[1;33m:\u001B[0m\u001B[1;33m\u001B[0m\u001B[1;33m\u001B[0m\u001B[0m\n",
      "\u001B[1;32mD:\\Anaconda3\\lib\\site-packages\\schedule\\__init__.py\u001B[0m in \u001B[0;36m_run_job\u001B[1;34m(self, job)\u001B[0m\n\u001B[0;32m    170\u001B[0m \u001B[1;33m\u001B[0m\u001B[0m\n\u001B[0;32m    171\u001B[0m     \u001B[1;32mdef\u001B[0m \u001B[0m_run_job\u001B[0m\u001B[1;33m(\u001B[0m\u001B[0mself\u001B[0m\u001B[1;33m,\u001B[0m \u001B[0mjob\u001B[0m\u001B[1;33m:\u001B[0m \u001B[1;34m\"Job\"\u001B[0m\u001B[1;33m)\u001B[0m \u001B[1;33m->\u001B[0m \u001B[1;32mNone\u001B[0m\u001B[1;33m:\u001B[0m\u001B[1;33m\u001B[0m\u001B[1;33m\u001B[0m\u001B[0m\n\u001B[1;32m--> 172\u001B[1;33m         \u001B[0mret\u001B[0m \u001B[1;33m=\u001B[0m \u001B[0mjob\u001B[0m\u001B[1;33m.\u001B[0m\u001B[0mrun\u001B[0m\u001B[1;33m(\u001B[0m\u001B[1;33m)\u001B[0m\u001B[1;33m\u001B[0m\u001B[1;33m\u001B[0m\u001B[0m\n\u001B[0m\u001B[0;32m    173\u001B[0m         \u001B[1;32mif\u001B[0m \u001B[0misinstance\u001B[0m\u001B[1;33m(\u001B[0m\u001B[0mret\u001B[0m\u001B[1;33m,\u001B[0m \u001B[0mCancelJob\u001B[0m\u001B[1;33m)\u001B[0m \u001B[1;32mor\u001B[0m \u001B[0mret\u001B[0m \u001B[1;32mis\u001B[0m \u001B[0mCancelJob\u001B[0m\u001B[1;33m:\u001B[0m\u001B[1;33m\u001B[0m\u001B[1;33m\u001B[0m\u001B[0m\n\u001B[0;32m    174\u001B[0m             \u001B[0mself\u001B[0m\u001B[1;33m.\u001B[0m\u001B[0mcancel_job\u001B[0m\u001B[1;33m(\u001B[0m\u001B[0mjob\u001B[0m\u001B[1;33m)\u001B[0m\u001B[1;33m\u001B[0m\u001B[1;33m\u001B[0m\u001B[0m\n",
      "\u001B[1;32mD:\\Anaconda3\\lib\\site-packages\\schedule\\__init__.py\u001B[0m in \u001B[0;36mrun\u001B[1;34m(self)\u001B[0m\n\u001B[0;32m    659\u001B[0m \u001B[1;33m\u001B[0m\u001B[0m\n\u001B[0;32m    660\u001B[0m         \u001B[0mlogger\u001B[0m\u001B[1;33m.\u001B[0m\u001B[0mdebug\u001B[0m\u001B[1;33m(\u001B[0m\u001B[1;34m\"Running job %s\"\u001B[0m\u001B[1;33m,\u001B[0m \u001B[0mself\u001B[0m\u001B[1;33m)\u001B[0m\u001B[1;33m\u001B[0m\u001B[1;33m\u001B[0m\u001B[0m\n\u001B[1;32m--> 661\u001B[1;33m         \u001B[0mret\u001B[0m \u001B[1;33m=\u001B[0m \u001B[0mself\u001B[0m\u001B[1;33m.\u001B[0m\u001B[0mjob_func\u001B[0m\u001B[1;33m(\u001B[0m\u001B[1;33m)\u001B[0m\u001B[1;33m\u001B[0m\u001B[1;33m\u001B[0m\u001B[0m\n\u001B[0m\u001B[0;32m    662\u001B[0m         \u001B[0mself\u001B[0m\u001B[1;33m.\u001B[0m\u001B[0mlast_run\u001B[0m \u001B[1;33m=\u001B[0m \u001B[0mdatetime\u001B[0m\u001B[1;33m.\u001B[0m\u001B[0mdatetime\u001B[0m\u001B[1;33m.\u001B[0m\u001B[0mnow\u001B[0m\u001B[1;33m(\u001B[0m\u001B[1;33m)\u001B[0m\u001B[1;33m\u001B[0m\u001B[1;33m\u001B[0m\u001B[0m\n\u001B[0;32m    663\u001B[0m         \u001B[0mself\u001B[0m\u001B[1;33m.\u001B[0m\u001B[0m_schedule_next_run\u001B[0m\u001B[1;33m(\u001B[0m\u001B[1;33m)\u001B[0m\u001B[1;33m\u001B[0m\u001B[1;33m\u001B[0m\u001B[0m\n",
      "\u001B[1;32m~\\AppData\\Local\\Temp\\ipykernel_7580\\3502861679.py\u001B[0m in \u001B[0;36mrun\u001B[1;34m()\u001B[0m\n\u001B[0;32m     13\u001B[0m     \u001B[0mcap\u001B[0m \u001B[1;33m=\u001B[0m \u001B[0mcv2\u001B[0m\u001B[1;33m.\u001B[0m\u001B[0mVideoCapture\u001B[0m\u001B[1;33m(\u001B[0m\u001B[1;36m0\u001B[0m\u001B[1;33m)\u001B[0m\u001B[1;33m\u001B[0m\u001B[1;33m\u001B[0m\u001B[0m\n\u001B[0;32m     14\u001B[0m     \u001B[0mret\u001B[0m\u001B[1;33m,\u001B[0m \u001B[0mframe\u001B[0m \u001B[1;33m=\u001B[0m \u001B[0mcap\u001B[0m\u001B[1;33m.\u001B[0m\u001B[0mread\u001B[0m\u001B[1;33m(\u001B[0m\u001B[1;33m)\u001B[0m\u001B[1;33m\u001B[0m\u001B[1;33m\u001B[0m\u001B[0m\n\u001B[1;32m---> 15\u001B[1;33m     \u001B[0mtime\u001B[0m\u001B[1;33m.\u001B[0m\u001B[0msleep\u001B[0m\u001B[1;33m(\u001B[0m\u001B[1;36m3\u001B[0m\u001B[1;33m)\u001B[0m\u001B[1;33m\u001B[0m\u001B[1;33m\u001B[0m\u001B[0m\n\u001B[0m\u001B[0;32m     16\u001B[0m     \u001B[0mcv2\u001B[0m\u001B[1;33m.\u001B[0m\u001B[0mimwrite\u001B[0m\u001B[1;33m(\u001B[0m\u001B[1;34m'photo.jpg'\u001B[0m\u001B[1;33m,\u001B[0m \u001B[0mframe\u001B[0m\u001B[1;33m)\u001B[0m\u001B[1;33m\u001B[0m\u001B[1;33m\u001B[0m\u001B[0m\n\u001B[0;32m     17\u001B[0m     \u001B[1;31m# 关闭摄像头\u001B[0m\u001B[1;33m\u001B[0m\u001B[1;33m\u001B[0m\u001B[0m\n",
      "\u001B[1;31mKeyboardInterrupt\u001B[0m: "
     ]
    }
   ],
   "source": [
    "import time\n",
    "\n",
    "import cv2\n",
    "import pyautogui\n",
    "import yagmail\n",
    "import schedule\n",
    "\n",
    "\n",
    "def run():\n",
    "    print('开始监视......')\n",
    "    # 截取屏幕图片\n",
    "    myScreenshot = pyautogui.screenshot()\n",
    "    myScreenshot.save(r'screen.png')\n",
    "    # 基于cv2打开电脑摄像头，捕获实施照片\n",
    "    cap = cv2.VideoCapture(0)\n",
    "    ret, frame = cap.read()\n",
    "    time.sleep(3)\n",
    "    cv2.imwrite('photo.jpg', frame)\n",
    "    # 关闭摄像头\n",
    "    cap.release()\n",
    "\n",
    "    received = ['hankewei0224@126.com', 'hankewei0224@163.com']\n",
    "    yag = yagmail.SMTP(user='562172420@qq.com', host='smtp.qq.com')\n",
    "    contents = ['<b> <font color=\"#FF1493\" size=\"10\"> 您好，一切都在监视中，尽情放心！</font> </b>',\n",
    "                \"screen.png\",\n",
    "                'photo.jpg']\n",
    "\n",
    "    yag.send(received, '来自小鬼侦探的报告', contents)\n",
    "\n",
    "\n",
    "schedule.every().minute.at(\":30\").do(run)\n",
    "while True:\n",
    "    schedule.run_pending()\n",
    "    time.sleep(5)\n"
   ]
  }
 ],
 "metadata": {
  "kernelspec": {
   "display_name": "Python 3 (ipykernel)",
   "language": "python",
   "name": "python3"
  },
  "language_info": {
   "codemirror_mode": {
    "name": "ipython",
    "version": 3
   },
   "file_extension": ".py",
   "mimetype": "text/x-python",
   "name": "python",
   "nbconvert_exporter": "python",
   "pygments_lexer": "ipython3",
   "version": "3.9.13"
  },
  "vp": {
   "vp_config_version": "1.0.0",
   "vp_menu_width": 273,
   "vp_note_display": false,
   "vp_note_width": 0,
   "vp_position": {
    "width": 278
   },
   "vp_section_display": false,
   "vp_signature": "VisualPython"
  }
 },
 "nbformat": 4,
 "nbformat_minor": 2
}